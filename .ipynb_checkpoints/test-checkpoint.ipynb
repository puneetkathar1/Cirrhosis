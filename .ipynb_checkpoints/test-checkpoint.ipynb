{
 "cells": [
  {
   "cell_type": "code",
   "execution_count": 6,
   "id": "72a0153d",
   "metadata": {},
   "outputs": [
    {
     "name": "stdout",
     "output_type": "stream",
     "text": [
      "Accuracy: 0.35\n",
      "Weights saved to 'logistic_regression_weights.h5'.\n"
     ]
    }
   ],
   "source": [
    "import pandas as pd\n",
    "from sklearn.model_selection import train_test_split\n",
    "from sklearn.linear_model import LogisticRegression\n",
    "import random\n",
    "import h5py\n",
    "import numpy as np\n",
    "import matplotlib.pyplot as plt\n",
    "\n",
    "\n",
    "# Generate synthetic data for demonstration\n",
    "random_seed = 42\n",
    "# Define the desired sample size for each category\n",
    "num_samples_per_category = 500\n",
    "\n",
    "# Generate data with labels for each category\n",
    "data = {\n",
    "    'Platelet_Count': [],\n",
    "    'Cirrhosis_Label': []\n",
    "}\n",
    "\n",
    "# Generate 500 samples for each category\n",
    "for cirrhosis_label in [0, 1, 2]:\n",
    "    for _ in range(num_samples_per_category):\n",
    "        # For healthy samples (label 0), platelet count is within the healthy range\n",
    "        if cirrhosis_label == 0:\n",
    "            platelet_count = random.randint(150000, 450000)\n",
    "        # For cirrhosis samples (label 1), platelet count is between 50,000 and 149,999\n",
    "        elif cirrhosis_label == 1:\n",
    "            platelet_count = random.randint(50000, 149999)\n",
    "        # For severe cirrhosis samples (label 2), platelet count is below 50,000\n",
    "        else:\n",
    "            platelet_count = random.randint(1, 49999)\n",
    "        \n",
    "        # Append the data to the lists\n",
    "        data['Platelet_Count'].append(platelet_count)\n",
    "        data['Cirrhosis_Label'].append(cirrhosis_label)\n",
    "\n",
    "# Create a DataFrame from the synthetic data\n",
    "df = pd.DataFrame(data)\n",
    "\n",
    "# Separate the feature (Xi) and the target variable (Wi)\n",
    "X = df[['Platelet_Count']]\n",
    "y = df['Cirrhosis_Label']\n",
    "\n",
    "# Split the data into training and testing sets\n",
    "X_train, X_test, y_train, y_test = train_test_split(X, y, test_size=0.2, random_state=random_seed)\n",
    "\n",
    "# Create a logistic regression model\n",
    "logistic_regression_model = LogisticRegression(random_state=random_seed)\n",
    "\n",
    "# Fit the model to the training data\n",
    "logistic_regression_model.fit(X_train, y_train)\n",
    "\n",
    "# Make predictions on the test set\n",
    "y_pred = logistic_regression_model.predict(X_test)\n",
    "\n",
    "# Evaluate the model's performance (accuracy)\n",
    "accuracy = logistic_regression_model.score(X_test, y_test)\n",
    "\n",
    "print(f\"Accuracy: {accuracy:.2f}\")\n",
    "\n",
    "# Save the weights (coefficients and intercept) to an HDF5 file\n",
    "weights_filename = 'logistic_regression_weights.h5'\n",
    "with h5py.File(weights_filename, 'w') as hf:\n",
    "    hf.create_dataset('coefficients', data=logistic_regression_model.coef_)\n",
    "    hf.create_dataset('intercept', data=logistic_regression_model.intercept_)\n",
    "\n",
    "print(f\"Weights saved to '{weights_filename}'.\")\n",
    "\n",
    "# To load the weights back:\n",
    "# with h5py.File(weights_filename, 'r') as hf:\n",
    "#     coefficients = hf['coefficients'][:]\n",
    "#     intercept = hf['intercept'][:]"
   ]
  },
  {
   "cell_type": "code",
   "execution_count": 7,
   "id": "84c5d7ce",
   "metadata": {},
   "outputs": [
    {
     "name": "stdout",
     "output_type": "stream",
     "text": [
      "[[ 5.93658314e-06]\n",
      " [ 1.63079173e-06]\n",
      " [-7.56737488e-06]]\n"
     ]
    }
   ],
   "source": [
    "weight = logistic_regression_model.coef_\n",
    "print(weight)"
   ]
  },
  {
   "cell_type": "code",
   "execution_count": 8,
   "id": "5c364f22",
   "metadata": {},
   "outputs": [
    {
     "name": "stdout",
     "output_type": "stream",
     "text": [
      "[-6.13540524e-10  1.45069096e-10  4.68471427e-10]\n"
     ]
    }
   ],
   "source": [
    "intercept = logistic_regression_model.intercept_\n",
    "print(intercept)"
   ]
  },
  {
   "cell_type": "code",
   "execution_count": 9,
   "id": "d83f4386",
   "metadata": {},
   "outputs": [
    {
     "name": "stdout",
     "output_type": "stream",
     "text": [
      "      Platelet_Count  Cirrhosis_Label\n",
      "0             302852                0\n",
      "1             337033                0\n",
      "2             374649                0\n",
      "3             390741                0\n",
      "4             429063                0\n",
      "...              ...              ...\n",
      "1495           22801                2\n",
      "1496           14707                2\n",
      "1497           26491                2\n",
      "1498           25891                2\n",
      "1499           35637                2\n",
      "\n",
      "[1500 rows x 2 columns]\n"
     ]
    }
   ],
   "source": [
    "print(df)"
   ]
  },
  {
   "cell_type": "code",
   "execution_count": 10,
   "id": "a2cb7b55",
   "metadata": {},
   "outputs": [
    {
     "data": {
      "image/png": "[encoded data removed]",
      "text/plain": [
       "<Figure size 1000x600 with 1 Axes>"
      ]
     },
     "metadata": {},
     "output_type": "display_data"
    }
   ],
   "source": [
    "\n",
    "# Separate the dataset into classes based on the target column\n",
    "classes = df['Cirrhosis_Label'].unique()\n",
    "\n",
    "# Create a scatter plot for each class\n",
    "plt.figure(figsize=(10, 6))  # Adjust the figure size as needed\n",
    "\n",
    "# Define colors and markers for each class\n",
    "colors = ['b', 'g', 'r', 'c', 'm', 'y', 'k']\n",
    "markers = ['o', 's', 'D', '^', 'v', '<', '>']\n",
    "\n",
    "for i, class_label in enumerate(classes):\n",
    "    class_data = df[df['Cirrhosis_Label'] == class_label]\n",
    "    plt.scatter(class_data['Platelet_Count'], [i] * len(class_data), c=colors[i % len(colors)],\n",
    "                marker=markers[i % len(markers)], label=f'Class {class_label}')\n",
    "\n",
    "# Customize plot labels and legend\n",
    "plt.xlabel('Feature')\n",
    "plt.ylabel('Class')\n",
    "plt.title('Scatter Plot of Classes')\n",
    "plt.legend(loc='upper right')\n",
    "\n",
    "# Show the plot\n",
    "plt.show()"
   ]
  },
  {
   "cell_type": "code",
   "execution_count": 16,
   "id": "e309449e",
   "metadata": {},
   "outputs": [
    {
     "name": "stdout",
     "output_type": "stream",
     "text": [
      "[[0.70899076 0.70899076 0.70899076]\n",
      " [0.56085155 0.56085155 0.56085155]\n",
      " [0.24322    0.24322    0.24322   ]]\n"
     ]
    }
   ],
   "source": [
    "# Define the sigmoid function\n",
    "def sigmoid(z):\n",
    "    return 1 / (1 + np.exp(-z))\n",
    "\n",
    "\n",
    "# Calculate the linear combination of weight and input\n",
    "x = 150000\n",
    "z = weight * x + intercept\n",
    "\n",
    "# Apply the sigmoid function to the linear combination\n",
    "probability = sigmoid(z)\n",
    "print(probability)"
   ]
  },
  {
   "cell_type": "code",
   "execution_count": 22,
   "id": "4140a50e",
   "metadata": {},
   "outputs": [
    {
     "name": "stdout",
     "output_type": "stream",
     "text": [
      "70.89907591928535  % chances of Healthy Person.\n",
      "56.08515540290725  % chances of Liver Cirrhosis Person.\n",
      "24.321999535904343  % chances of Severe Liver Cirrhosis Person.\n"
     ]
    }
   ],
   "source": [
    "print(probability[0][0]*100,' % chances of Healthy Person.')\n",
    "print(probability[1][0]*100,' % chances of Liver Cirrhosis Person.')\n",
    "print(probability[2][0]*100,' % chances of Severe Liver Cirrhosis Person.')\n",
    "\n"
   ]
  },
  {
   "cell_type": "code",
   "execution_count": null,
   "id": "5108304f",
   "metadata": {},
   "outputs": [],
   "source": []
  }
 ],
 "metadata": {
  "kernelspec": {
   "display_name": "Python 3 (ipykernel)",
   "language": "python",
   "name": "python3"
  },
  "language_info": {
   "codemirror_mode": {
    "name": "ipython",
    "version": 3
   },
   "file_extension": ".py",
   "mimetype": "text/x-python",
   "name": "python",
   "nbconvert_exporter": "python",
   "pygments_lexer": "ipython3",
   "version": "3.8.18"
  }
 },
 "nbformat": 4,
 "nbformat_minor": 5
}
