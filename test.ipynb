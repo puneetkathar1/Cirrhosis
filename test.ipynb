{
 "cells": [
  {
   "cell_type": "code",
   "execution_count": 28,
   "id": "72a0153d",
   "metadata": {},
   "outputs": [],
   "source": [
    "import pandas as pd\n",
    "from sklearn.model_selection import train_test_split\n",
    "from sklearn.linear_model import LogisticRegression\n",
    "import random\n",
    "import h5py\n",
    "import numpy as np\n",
    "import matplotlib.pyplot as plt\n",
    "import tensorflow as tf\n",
    "from tensorflow import keras \n",
    "from tensorflow.keras import layers\n",
    "from sklearn.preprocessing import StandardScaler \n",
    "\n",
    "\n",
    "# Generate synthetic data for demonstration\n",
    "random_seed = 42\n",
    "# Define the desired sample size for each category\n",
    "num_samples_per_category = 50000\n",
    "\n",
    "# Generate data with labels for each category\n",
    "data = {\n",
    "    'Platelet_Count': [],\n",
    "    'Cirrhosis_Label': []\n",
    "}\n",
    "\n",
    "# Generate 500 samples for each category\n",
    "for cirrhosis_label in [0, 1, 2]:\n",
    "    for _ in range(num_samples_per_category):\n",
    "        # For healthy samples (label 0), platelet count is within the healthy range\n",
    "        if cirrhosis_label == 0:\n",
    "            platelet_count = random.randint(150000, 450000)\n",
    "        # For cirrhosis samples (label 1), platelet count is between 50,000 and 149,999\n",
    "        elif cirrhosis_label == 1:\n",
    "            platelet_count = random.randint(50000, 149999)\n",
    "        # For severe cirrhosis samples (label 2), platelet count is below 50,000\n",
    "        else:\n",
    "            platelet_count = random.randint(1, 49999)\n",
    "        \n",
    "        # Append the data to the lists\n",
    "        data['Platelet_Count'].append(platelet_count)\n",
    "        data['Cirrhosis_Label'].append(cirrhosis_label)\n",
    "\n",
    "# Create a DataFrame from the synthetic data\n",
    "df = pd.DataFrame(data)\n",
    "\n",
    "# Separate the feature (Xi) and the target variable (Wi)\n",
    "X = df[['Platelet_Count']]\n",
    "y = df['Cirrhosis_Label']\n",
    "y_encoded = to_categorical(y, num_classes=3)\n",
    "\n",
    "# Split the dataset into training and testing sets\n",
    "X_train, X_test, y_train, y_test = train_test_split(X, y_encoded, test_size=0.2, random_state=42)\n",
    "\n",
    "# Standardize the features\n",
    "scaler = StandardScaler()\n",
    "X_train = scaler.fit_transform(X_train)\n",
    "X_test = scaler.transform(X_test)\n",
    "\n",
    "\n"
   ]
  },
  {
   "cell_type": "code",
   "execution_count": 29,
   "id": "1b9712d7",
   "metadata": {},
   "outputs": [
    {
     "name": "stdout",
     "output_type": "stream",
     "text": [
      "Epoch 1/10\n",
      "3000/3000 [==============================] - 5s 2ms/step - loss: 0.0533 - accuracy: 0.9826 - val_loss: 0.0144 - val_accuracy: 0.9950\n",
      "Epoch 2/10\n",
      "3000/3000 [==============================] - 4s 1ms/step - loss: 0.0147 - accuracy: 0.9944 - val_loss: 0.0091 - val_accuracy: 0.9992\n",
      "Epoch 3/10\n",
      "3000/3000 [==============================] - 5s 2ms/step - loss: 0.0116 - accuracy: 0.9953 - val_loss: 0.0139 - val_accuracy: 0.9931\n",
      "Epoch 4/10\n",
      "3000/3000 [==============================] - 5s 2ms/step - loss: 0.0110 - accuracy: 0.9954 - val_loss: 0.0118 - val_accuracy: 0.9947\n",
      "Epoch 5/10\n",
      "3000/3000 [==============================] - 5s 2ms/step - loss: 0.0098 - accuracy: 0.9957 - val_loss: 0.0079 - val_accuracy: 0.9971\n",
      "Epoch 6/10\n",
      "3000/3000 [==============================] - 6s 2ms/step - loss: 0.0091 - accuracy: 0.9962 - val_loss: 0.0056 - val_accuracy: 0.9978\n",
      "Epoch 7/10\n",
      "3000/3000 [==============================] - 5s 2ms/step - loss: 0.0090 - accuracy: 0.9963 - val_loss: 0.0093 - val_accuracy: 0.9952\n",
      "Epoch 8/10\n",
      "3000/3000 [==============================] - 4s 1ms/step - loss: 0.0101 - accuracy: 0.9959 - val_loss: 0.0191 - val_accuracy: 0.9928\n",
      "Epoch 9/10\n",
      "3000/3000 [==============================] - 4s 1ms/step - loss: 0.0091 - accuracy: 0.9962 - val_loss: 0.0062 - val_accuracy: 0.9987\n",
      "Epoch 10/10\n",
      "3000/3000 [==============================] - 4s 1ms/step - loss: 0.0088 - accuracy: 0.9964 - val_loss: 0.0076 - val_accuracy: 0.9961\n",
      "938/938 [==============================] - 1s 1ms/step - loss: 0.0066 - accuracy: 0.9966\n",
      "Test Accuracy: 0.9966333508491516\n"
     ]
    }
   ],
   "source": [
    "from tensorflow.keras.utils import to_categorical\n",
    "\n",
    "# Create a simple neural network model\n",
    "model = keras.Sequential([\n",
    "    layers.Input(shape=(1,)),  # Input layer\n",
    "    layers.Dense(128, activation='relu'),  # Hidden layer with 128 units and ReLU activation\n",
    "    layers.Dense(64, activation='relu'),   # Hidden layer with 64 units and ReLU activation\n",
    "    layers.Dense(y_train.shape[1], activation='softmax')  # Output layer with 3 units and softmax activation\n",
    "])\n",
    "\n",
    "# Compile the model\n",
    "model.compile(optimizer='adam', loss='categorical_crossentropy', metrics=['accuracy'])\n",
    "\n",
    "# Train the model\n",
    "model.fit(X_train, y_train, epochs=10, batch_size=32, validation_split=0.2)\n",
    "\n",
    "# Evaluate the model on the test data\n",
    "test_loss, test_accuracy = model.evaluate(X_test, y_test)\n",
    "print(\"Test Accuracy:\", test_accuracy)"
   ]
  },
  {
   "cell_type": "code",
   "execution_count": 30,
   "id": "d83f4386",
   "metadata": {},
   "outputs": [
    {
     "name": "stdout",
     "output_type": "stream",
     "text": [
      "        Platelet_Count  Cirrhosis_Label\n",
      "0               433928                0\n",
      "1               367475                0\n",
      "2               200158                0\n",
      "3               335815                0\n",
      "4               267465                0\n",
      "...                ...              ...\n",
      "149995           10355                2\n",
      "149996           32281                2\n",
      "149997           24211                2\n",
      "149998           45149                2\n",
      "149999           43749                2\n",
      "\n",
      "[150000 rows x 2 columns]\n"
     ]
    }
   ],
   "source": [
    "print(df)"
   ]
  },
  {
   "cell_type": "code",
   "execution_count": 31,
   "id": "a2cb7b55",
   "metadata": {},
   "outputs": [
    {
     "data": {
      "image/png": "[encoded data removed]",
      "text/plain": [
       "<Figure size 1000x600 with 1 Axes>"
      ]
     },
     "metadata": {},
     "output_type": "display_data"
    }
   ],
   "source": [
    "\n",
    "# Separate the dataset into classes based on the target column\n",
    "classes = df['Cirrhosis_Label'].unique()\n",
    "\n",
    "# Create a scatter plot for each class\n",
    "plt.figure(figsize=(10, 6))  # Adjust the figure size as needed\n",
    "\n",
    "# Define colors and markers for each class\n",
    "colors = ['b', 'g', 'r', 'c', 'm', 'y', 'k']\n",
    "markers = ['o', 's', 'D', '^', 'v', '<', '>']\n",
    "\n",
    "for i, class_label in enumerate(classes):\n",
    "    class_data = df[df['Cirrhosis_Label'] == class_label]\n",
    "    plt.scatter(class_data['Platelet_Count'], [i] * len(class_data), c=colors[i % len(colors)],\n",
    "                marker=markers[i % len(markers)], label=f'Class {class_label}')\n",
    "\n",
    "# Customize plot labels and legend\n",
    "plt.xlabel('Feature')\n",
    "plt.ylabel('Class')\n",
    "plt.title('Scatter Plot of Classes')\n",
    "plt.legend(loc='upper right')\n",
    "\n",
    "# Show the plot\n",
    "plt.show()"
   ]
  },
  {
   "cell_type": "code",
   "execution_count": 48,
   "id": "5108304f",
   "metadata": {},
   "outputs": [
    {
     "name": "stdout",
     "output_type": "stream",
     "text": [
      "Health: Healthy\n"
     ]
    },
    {
     "name": "stderr",
     "output_type": "stream",
     "text": [
      "C:\\Users\\Puneet\\miniconda3\\envs\\pro\\lib\\site-packages\\sklearn\\base.py:439: UserWarning: X does not have valid feature names, but StandardScaler was fitted with feature names\n",
      "  warnings.warn(\n"
     ]
    }
   ],
   "source": [
    "# Make predictions on new data\n",
    "new_data = np.array([[240000]])  # Replace with your own data points\n",
    "new_data = scaler.transform(new_data)  # Standardize the new data, assuming you used StandardScaler\n",
    "\n",
    "# Predict the class probabilities for the new data\n",
    "class_probabilities = model.predict(new_data)\n",
    "\n",
    "# To get the predicted class labels (argmax of class probabilities)\n",
    "predicted_labels = np.argmax(class_probabilities, axis=1)\n",
    "\n",
    "# Print the predicted class labels\n",
    "d = {0: \"Healthy\",\n",
    "    1: \"Liver Cirroihsis\",\n",
    "    2: \"Severe Condition\"}\n",
    "\n",
    "print(\"Health:\", d[predicted_labels[0]])\n"
   ]
  },
  {
   "cell_type": "code",
   "execution_count": null,
   "id": "951c07be",
   "metadata": {},
   "outputs": [],
   "source": []
  }
 ],
 "metadata": {
  "kernelspec": {
   "display_name": "Python 3 (ipykernel)",
   "language": "python",
   "name": "python3"
  },
  "language_info": {
   "codemirror_mode": {
    "name": "ipython",
    "version": 3
   },
   "file_extension": ".py",
   "mimetype": "text/x-python",
   "name": "python",
   "nbconvert_exporter": "python",
   "pygments_lexer": "ipython3",
   "version": "3.8.18"
  }
 },
 "nbformat": 4,
 "nbformat_minor": 5
}
